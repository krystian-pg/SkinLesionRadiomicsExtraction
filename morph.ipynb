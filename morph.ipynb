{
 "cells": [
  {
   "cell_type": "code",
   "execution_count": 1,
   "metadata": {},
   "outputs": [],
   "source": [
    "import cv2\n",
    "import numpy as np\n",
    "import os\n",
    "\n",
    "def process_skin_lesion(image_path, output_path):\n",
    "    # Load the image\n",
    "    image = cv2.imread(image_path, cv2.IMREAD_GRAYSCALE)\n",
    "    \n",
    "    # Fill any holes in the image\n",
    "    contour, _ = cv2.findContours(image, cv2.RETR_EXTERNAL, cv2.CHAIN_APPROX_SIMPLE)\n",
    "    for cnt in contour:\n",
    "        cv2.drawContours(image, [cnt], 0, 255, -1)\n",
    "    \n",
    "    # Apply morphological operations\n",
    "    kernel = np.ones((5, 5), np.uint8)\n",
    "    image_dilated = cv2.dilate(image, kernel, iterations=1)\n",
    "    image_eroded = cv2.erode(image_dilated, kernel, iterations=1)\n",
    "    \n",
    "    # Save the processed image\n",
    "    cv2.imwrite(output_path, image_eroded)\n",
    "\n",
    "# Process all images in a folder\n",
    "def process_folder(input_folder, output_folder):\n",
    "    if not os.path.exists(output_folder):\n",
    "        os.makedirs(output_folder)\n",
    "    \n",
    "    for filename in os.listdir(input_folder):\n",
    "        if filename.endswith(\".png\") or filename.endswith(\".jpg\") or filename.endswith(\".jpeg\"):\n",
    "            input_path = os.path.join(input_folder, filename)\n",
    "            output_path = os.path.join(output_folder, filename)\n",
    "            process_skin_lesion(input_path, output_path)\n",
    "\n",
    "\n",
    "input_folder = \"/app/data/ISIC2018_Task3_Test_Images_Segmentations\"\n",
    "output_folder = \"/app/data/ISIC2018_Task3_Test_Images_Segmentations_Morph\"\n",
    "process_folder(input_folder, output_folder)\n"
   ]
  }
 ],
 "metadata": {
  "kernelspec": {
   "display_name": "Python 3",
   "language": "python",
   "name": "python3"
  },
  "language_info": {
   "codemirror_mode": {
    "name": "ipython",
    "version": 3
   },
   "file_extension": ".py",
   "mimetype": "text/x-python",
   "name": "python",
   "nbconvert_exporter": "python",
   "pygments_lexer": "ipython3",
   "version": "3.7.17"
  }
 },
 "nbformat": 4,
 "nbformat_minor": 2
}
